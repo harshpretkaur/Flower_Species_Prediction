{
 "cells": [
  {
   "cell_type": "markdown",
   "id": "f858dfd9",
   "metadata": {},
   "source": [
    "#### Importing necessary libraries\n"
   ]
  },
  {
   "cell_type": "code",
   "execution_count": 3,
   "id": "6187b892",
   "metadata": {},
   "outputs": [],
   "source": [
    "import pandas as pd\n",
    "import numpy as np\n",
    "df=pd.read_csv('iris.data')"
   ]
  },
  {
   "cell_type": "markdown",
   "id": "986f26a8",
   "metadata": {},
   "source": [
    "### Data cleaning and exploratory analysis\n"
   ]
  },
  {
   "cell_type": "code",
   "execution_count": 4,
   "id": "ede38d17",
   "metadata": {},
   "outputs": [
    {
     "data": {
      "text/html": [
       "<div>\n",
       "<style scoped>\n",
       "    .dataframe tbody tr th:only-of-type {\n",
       "        vertical-align: middle;\n",
       "    }\n",
       "\n",
       "    .dataframe tbody tr th {\n",
       "        vertical-align: top;\n",
       "    }\n",
       "\n",
       "    .dataframe thead th {\n",
       "        text-align: right;\n",
       "    }\n",
       "</style>\n",
       "<table border=\"1\" class=\"dataframe\">\n",
       "  <thead>\n",
       "    <tr style=\"text-align: right;\">\n",
       "      <th></th>\n",
       "      <th>s_length</th>\n",
       "      <th>s_width</th>\n",
       "      <th>p_length</th>\n",
       "      <th>p_width</th>\n",
       "      <th>class</th>\n",
       "    </tr>\n",
       "  </thead>\n",
       "  <tbody>\n",
       "  </tbody>\n",
       "</table>\n",
       "</div>"
      ],
      "text/plain": [
       "Empty DataFrame\n",
       "Columns: [s_length, s_width, p_length, p_width, class]\n",
       "Index: []"
      ]
     },
     "execution_count": 4,
     "metadata": {},
     "output_type": "execute_result"
    }
   ],
   "source": [
    "df.head()\n",
    "df.columns=['s_length','s_width','p_length','p_width','class']\n",
    "df.head()\n",
    "df.dropna(inplace=True)\n",
    "df.loc[df['class']==1]"
   ]
  },
  {
   "cell_type": "code",
   "execution_count": 5,
   "id": "3b40c255",
   "metadata": {},
   "outputs": [
    {
     "name": "stdout",
     "output_type": "stream",
     "text": [
      "<class 'pandas.core.frame.DataFrame'>\n",
      "Int64Index: 149 entries, 0 to 148\n",
      "Data columns (total 5 columns):\n",
      " #   Column    Non-Null Count  Dtype  \n",
      "---  ------    --------------  -----  \n",
      " 0   s_length  149 non-null    float64\n",
      " 1   s_width   149 non-null    float64\n",
      " 2   p_length  149 non-null    float64\n",
      " 3   p_width   149 non-null    float64\n",
      " 4   class     149 non-null    object \n",
      "dtypes: float64(4), object(1)\n",
      "memory usage: 7.0+ KB\n"
     ]
    }
   ],
   "source": [
    "df.info()"
   ]
  },
  {
   "cell_type": "code",
   "execution_count": 6,
   "id": "91a86a0c",
   "metadata": {},
   "outputs": [
    {
     "data": {
      "text/plain": [
       "Iris-versicolor    50\n",
       "Iris-virginica     50\n",
       "Iris-setosa        49\n",
       "Name: class, dtype: int64"
      ]
     },
     "execution_count": 6,
     "metadata": {},
     "output_type": "execute_result"
    }
   ],
   "source": [
    "df['class'].value_counts()"
   ]
  },
  {
   "cell_type": "code",
   "execution_count": 7,
   "id": "ea30b21a",
   "metadata": {},
   "outputs": [],
   "source": [
    "from sklearn.preprocessing import LabelEncoder\n",
    "x=LabelEncoder()\n",
    "df['class']=x.fit_transform(df['class'])\n",
    "species=['Iris-versicolor',\n",
    "'Iris-virginica','Iris-setosa']  \n",
    "df = df.apply(pd.to_numeric, errors='coerce')"
   ]
  },
  {
   "cell_type": "code",
   "execution_count": 8,
   "id": "d5260494",
   "metadata": {},
   "outputs": [
    {
     "data": {
      "text/plain": [
       "0      0.0\n",
       "1      0.0\n",
       "2      0.0\n",
       "3      0.0\n",
       "4      0.0\n",
       "      ... \n",
       "144    2.0\n",
       "145    2.0\n",
       "146    2.0\n",
       "147    2.0\n",
       "148    2.0\n",
       "Name: class, Length: 149, dtype: float64"
      ]
     },
     "execution_count": 8,
     "metadata": {},
     "output_type": "execute_result"
    }
   ],
   "source": [
    "a=df.corr()\n",
    "a['class'].sort_values(ascending=False)\n",
    "df['class'].astype(float)"
   ]
  },
  {
   "cell_type": "code",
   "execution_count": 9,
   "id": "24827791",
   "metadata": {},
   "outputs": [
    {
     "data": {
      "text/plain": [
       "array([[<AxesSubplot:xlabel='s_length', ylabel='s_length'>,\n",
       "        <AxesSubplot:xlabel='s_width', ylabel='s_length'>,\n",
       "        <AxesSubplot:xlabel='p_length', ylabel='s_length'>,\n",
       "        <AxesSubplot:xlabel='p_width', ylabel='s_length'>,\n",
       "        <AxesSubplot:xlabel='class', ylabel='s_length'>],\n",
       "       [<AxesSubplot:xlabel='s_length', ylabel='s_width'>,\n",
       "        <AxesSubplot:xlabel='s_width', ylabel='s_width'>,\n",
       "        <AxesSubplot:xlabel='p_length', ylabel='s_width'>,\n",
       "        <AxesSubplot:xlabel='p_width', ylabel='s_width'>,\n",
       "        <AxesSubplot:xlabel='class', ylabel='s_width'>],\n",
       "       [<AxesSubplot:xlabel='s_length', ylabel='p_length'>,\n",
       "        <AxesSubplot:xlabel='s_width', ylabel='p_length'>,\n",
       "        <AxesSubplot:xlabel='p_length', ylabel='p_length'>,\n",
       "        <AxesSubplot:xlabel='p_width', ylabel='p_length'>,\n",
       "        <AxesSubplot:xlabel='class', ylabel='p_length'>],\n",
       "       [<AxesSubplot:xlabel='s_length', ylabel='p_width'>,\n",
       "        <AxesSubplot:xlabel='s_width', ylabel='p_width'>,\n",
       "        <AxesSubplot:xlabel='p_length', ylabel='p_width'>,\n",
       "        <AxesSubplot:xlabel='p_width', ylabel='p_width'>,\n",
       "        <AxesSubplot:xlabel='class', ylabel='p_width'>],\n",
       "       [<AxesSubplot:xlabel='s_length', ylabel='class'>,\n",
       "        <AxesSubplot:xlabel='s_width', ylabel='class'>,\n",
       "        <AxesSubplot:xlabel='p_length', ylabel='class'>,\n",
       "        <AxesSubplot:xlabel='p_width', ylabel='class'>,\n",
       "        <AxesSubplot:xlabel='class', ylabel='class'>]], dtype=object)"
      ]
     },
     "execution_count": 9,
     "metadata": {},
     "output_type": "execute_result"
    },
    {
     "data": {
      "image/png": "[encoded data removed]",
      "text/plain": [
       "<Figure size 432x288 with 25 Axes>"
      ]
     },
     "metadata": {
      "needs_background": "light"
     },
     "output_type": "display_data"
    }
   ],
   "source": [
    "from pandas.plotting import scatter_matrix\n",
    "scatter_matrix(df)"
   ]
  },
  {
   "cell_type": "code",
   "execution_count": 10,
   "id": "021c2127",
   "metadata": {},
   "outputs": [],
   "source": [
    "X=np.array(df[['s_length','s_width','p_length','p_width']])\n",
    "y=np.array(df['class'])"
   ]
  },
  {
   "cell_type": "code",
   "execution_count": 11,
   "id": "60a6df39",
   "metadata": {},
   "outputs": [],
   "source": [
    "from sklearn.model_selection import train_test_split\n",
    "X_train,X_test,y_train,y_test=train_test_split(X,y,test_size=0.2)"
   ]
  },
  {
   "cell_type": "code",
   "execution_count": 12,
   "id": "dd4aadfb",
   "metadata": {},
   "outputs": [
    {
     "data": {
      "text/plain": [
       "GaussianNB()"
      ]
     },
     "execution_count": 12,
     "metadata": {},
     "output_type": "execute_result"
    }
   ],
   "source": [
    "from sklearn.linear_model import LinearRegression, LogisticRegression\n",
    "from sklearn import svm\n",
    "from sklearn.naive_bayes import GaussianNB\n",
    "from sklearn.neighbors import KNeighborsClassifier\n",
    "# clf=LinearRegression()\n",
    "# clf=svm.SVC()\n",
    "# clf=LogisticRegression()\n",
    "# clf=KNeighborsClassifier()\n",
    "clf=GaussianNB()\n",
    "clf.fit(X_train,y_train)"
   ]
  },
  {
   "cell_type": "code",
   "execution_count": 13,
   "id": "2c2b924c",
   "metadata": {},
   "outputs": [
    {
     "data": {
      "text/plain": [
       "0.9666666666666667"
      ]
     },
     "execution_count": 13,
     "metadata": {},
     "output_type": "execute_result"
    }
   ],
   "source": [
    "acc=clf.score(X_test,y_test)\n",
    "acc"
   ]
  },
  {
   "cell_type": "code",
   "execution_count": 15,
   "id": "b0a31170",
   "metadata": {},
   "outputs": [
    {
     "data": {
      "text/plain": [
       "array([0, 2, 2])"
      ]
     },
     "execution_count": 15,
     "metadata": {},
     "output_type": "execute_result"
    }
   ],
   "source": [
    "#0 2 1\n",
    "to_predict=np.array([[6,4,2,0.5],[6.7,3,5.6,2.5],[5,2.4,3.3,-9999]])\n",
    "predict=to_predict.reshape(len(to_predict),-1)\n",
    "xyz=clf.predict(predict)\n",
    "xyz"
   ]
  },
  {
   "cell_type": "code",
   "execution_count": null,
   "id": "16e331d2",
   "metadata": {},
   "outputs": [],
   "source": []
  },
  {
   "cell_type": "code",
   "execution_count": null,
   "id": "6dd2819a",
   "metadata": {},
   "outputs": [],
   "source": []
  }
 ],
 "metadata": {
  "kernelspec": {
   "display_name": "Python 3 (ipykernel)",
   "language": "python",
   "name": "python3"
  },
  "language_info": {
   "codemirror_mode": {
    "name": "ipython",
    "version": 3
   },
   "file_extension": ".py",
   "mimetype": "text/x-python",
   "name": "python",
   "nbconvert_exporter": "python",
   "pygments_lexer": "ipython3",
   "version": "3.9.5"
  }
 },
 "nbformat": 4,
 "nbformat_minor": 5
}
